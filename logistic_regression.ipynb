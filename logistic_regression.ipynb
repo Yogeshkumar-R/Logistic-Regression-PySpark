{
 "cells": [
  {
   "cell_type": "markdown",
   "metadata": {},
   "source": [
    "## Assignment 3 - Logistic Regression"
   ]
  },
  {
   "cell_type": "markdown",
   "metadata": {},
   "source": [
    "## Import the Necessary PySpark and MlLib libraries"
   ]
  },
  {
   "cell_type": "code",
   "execution_count": 1,
   "metadata": {},
   "outputs": [],
   "source": [
    "from pyspark import SparkConf,SparkContext\n",
    "from pyspark.sql import SQLContext,SparkSession\n",
    "from pyspark.ml.classification import LogisticRegression\n",
    "from pyspark.ml.evaluation import BinaryClassificationEvaluator\n",
    "from pyspark.sql import functions as F"
   ]
  },
  {
   "cell_type": "markdown",
   "metadata": {},
   "source": [
    "# Build a spark session and Load the Dataset"
   ]
  },
  {
   "cell_type": "code",
   "execution_count": 7,
   "metadata": {},
   "outputs": [
    {
     "name": "stdout",
     "output_type": "stream",
     "text": [
      "There are 900 rows 10 columns in the data.\n"
     ]
    }
   ],
   "source": [
    "#Initializing the SparkSession\n",
    "spark=SparkSession.builder.appName(\"LogisticRegression\").getOrCreate()\n",
    "\n",
    "#loading the dataset\n",
    "customer_df=spark.read.option(\"header\",'True').option(\"inferSchema\",\"True\")\\\n",
    "    .option('delimiter',',').csv(\"customer_churn.csv\")\n",
    "#print the no.of.rows and columns\n",
    "print(\"There are\",customer_df.count(),\"rows\",len(customer_df.columns),\"columns in the data.\")"
   ]
  },
  {
   "cell_type": "markdown",
   "metadata": {},
   "source": [
    "Display the Dataframe"
   ]
  },
  {
   "cell_type": "code",
   "execution_count": 8,
   "metadata": {},
   "outputs": [
    {
     "name": "stdout",
     "output_type": "stream",
     "text": [
      "+-------+-------------+-----------------+-----------------+------------------+-----------------+------------------+--------------------+--------------------+-------------------+\n",
      "|summary|        Names|              Age|   Total_Purchase|   Account_Manager|            Years|         Num_Sites|            Location|             Company|              Churn|\n",
      "+-------+-------------+-----------------+-----------------+------------------+-----------------+------------------+--------------------+--------------------+-------------------+\n",
      "|  count|          900|              900|              900|               900|              900|               900|                 900|                 900|                900|\n",
      "|   mean|         NULL|41.81666666666667|10062.82403333334|0.4811111111111111| 5.27315555555555| 8.587777777777777|                NULL|                NULL|0.16666666666666666|\n",
      "| stddev|         NULL|6.127560416916251|2408.644531858096|0.4999208935073339|1.274449013194616|1.7648355920350969|                NULL|                NULL| 0.3728852122772358|\n",
      "|    min|   Aaron King|             22.0|            100.0|                 0|              1.0|               3.0|00103 Jeffrey Cre...|     Abbott-Thompson|                  0|\n",
      "|    max|Zachary Walsh|             65.0|         18026.01|                 1|             9.15|              14.0|Unit 9800 Box 287...|Zuniga, Clark and...|                  1|\n",
      "+-------+-------------+-----------------+-----------------+------------------+-----------------+------------------+--------------------+--------------------+-------------------+\n",
      "\n"
     ]
    }
   ],
   "source": [
    "customer_df.describe().show()"
   ]
  },
  {
   "cell_type": "markdown",
   "metadata": {},
   "source": [
    "Print the Schema in tree format"
   ]
  },
  {
   "cell_type": "code",
   "execution_count": 9,
   "metadata": {},
   "outputs": [
    {
     "name": "stdout",
     "output_type": "stream",
     "text": [
      "root\n",
      " |-- Names: string (nullable = true)\n",
      " |-- Age: double (nullable = true)\n",
      " |-- Total_Purchase: double (nullable = true)\n",
      " |-- Account_Manager: integer (nullable = true)\n",
      " |-- Years: double (nullable = true)\n",
      " |-- Num_Sites: double (nullable = true)\n",
      " |-- Onboard_date: timestamp (nullable = true)\n",
      " |-- Location: string (nullable = true)\n",
      " |-- Company: string (nullable = true)\n",
      " |-- Churn: integer (nullable = true)\n",
      "\n"
     ]
    }
   ],
   "source": [
    "customer_df.cache()\n",
    "customer_df.printSchema()"
   ]
  },
  {
   "cell_type": "markdown",
   "metadata": {},
   "source": [
    "Descriptive  Analysis"
   ]
  },
  {
   "cell_type": "code",
   "execution_count": 10,
   "metadata": {},
   "outputs": [
    {
     "data": {
      "text/html": [
       "<div>\n",
       "<style scoped>\n",
       "    .dataframe tbody tr th:only-of-type {\n",
       "        vertical-align: middle;\n",
       "    }\n",
       "\n",
       "    .dataframe tbody tr th {\n",
       "        vertical-align: top;\n",
       "    }\n",
       "\n",
       "    .dataframe thead th {\n",
       "        text-align: right;\n",
       "    }\n",
       "</style>\n",
       "<table border=\"1\" class=\"dataframe\">\n",
       "  <thead>\n",
       "    <tr style=\"text-align: right;\">\n",
       "      <th></th>\n",
       "      <th>0</th>\n",
       "      <th>1</th>\n",
       "      <th>2</th>\n",
       "      <th>3</th>\n",
       "      <th>4</th>\n",
       "    </tr>\n",
       "  </thead>\n",
       "  <tbody>\n",
       "    <tr>\n",
       "      <th>summary</th>\n",
       "      <td>count</td>\n",
       "      <td>mean</td>\n",
       "      <td>stddev</td>\n",
       "      <td>min</td>\n",
       "      <td>max</td>\n",
       "    </tr>\n",
       "    <tr>\n",
       "      <th>Names</th>\n",
       "      <td>900</td>\n",
       "      <td>None</td>\n",
       "      <td>None</td>\n",
       "      <td>Aaron King</td>\n",
       "      <td>Zachary Walsh</td>\n",
       "    </tr>\n",
       "    <tr>\n",
       "      <th>Age</th>\n",
       "      <td>900</td>\n",
       "      <td>41.81666666666667</td>\n",
       "      <td>6.127560416916251</td>\n",
       "      <td>22.0</td>\n",
       "      <td>65.0</td>\n",
       "    </tr>\n",
       "    <tr>\n",
       "      <th>Total_Purchase</th>\n",
       "      <td>900</td>\n",
       "      <td>10062.82403333334</td>\n",
       "      <td>2408.644531858096</td>\n",
       "      <td>100.0</td>\n",
       "      <td>18026.01</td>\n",
       "    </tr>\n",
       "    <tr>\n",
       "      <th>Account_Manager</th>\n",
       "      <td>900</td>\n",
       "      <td>0.4811111111111111</td>\n",
       "      <td>0.4999208935073339</td>\n",
       "      <td>0</td>\n",
       "      <td>1</td>\n",
       "    </tr>\n",
       "    <tr>\n",
       "      <th>Years</th>\n",
       "      <td>900</td>\n",
       "      <td>5.27315555555555</td>\n",
       "      <td>1.274449013194616</td>\n",
       "      <td>1.0</td>\n",
       "      <td>9.15</td>\n",
       "    </tr>\n",
       "    <tr>\n",
       "      <th>Num_Sites</th>\n",
       "      <td>900</td>\n",
       "      <td>8.587777777777777</td>\n",
       "      <td>1.7648355920350969</td>\n",
       "      <td>3.0</td>\n",
       "      <td>14.0</td>\n",
       "    </tr>\n",
       "    <tr>\n",
       "      <th>Location</th>\n",
       "      <td>900</td>\n",
       "      <td>None</td>\n",
       "      <td>None</td>\n",
       "      <td>00103 Jeffrey Crest Apt. 205 Padillaville, IA ...</td>\n",
       "      <td>Unit 9800 Box 2878 DPO AA 75157</td>\n",
       "    </tr>\n",
       "    <tr>\n",
       "      <th>Company</th>\n",
       "      <td>900</td>\n",
       "      <td>None</td>\n",
       "      <td>None</td>\n",
       "      <td>Abbott-Thompson</td>\n",
       "      <td>Zuniga, Clark and Shaffer</td>\n",
       "    </tr>\n",
       "    <tr>\n",
       "      <th>Churn</th>\n",
       "      <td>900</td>\n",
       "      <td>0.16666666666666666</td>\n",
       "      <td>0.3728852122772358</td>\n",
       "      <td>0</td>\n",
       "      <td>1</td>\n",
       "    </tr>\n",
       "  </tbody>\n",
       "</table>\n",
       "</div>"
      ],
      "text/plain": [
       "                     0                    1                   2  \\\n",
       "summary          count                 mean              stddev   \n",
       "Names              900                 None                None   \n",
       "Age                900    41.81666666666667   6.127560416916251   \n",
       "Total_Purchase     900    10062.82403333334   2408.644531858096   \n",
       "Account_Manager    900   0.4811111111111111  0.4999208935073339   \n",
       "Years              900     5.27315555555555   1.274449013194616   \n",
       "Num_Sites          900    8.587777777777777  1.7648355920350969   \n",
       "Location           900                 None                None   \n",
       "Company            900                 None                None   \n",
       "Churn              900  0.16666666666666666  0.3728852122772358   \n",
       "\n",
       "                                                                 3  \\\n",
       "summary                                                        min   \n",
       "Names                                                   Aaron King   \n",
       "Age                                                           22.0   \n",
       "Total_Purchase                                               100.0   \n",
       "Account_Manager                                                  0   \n",
       "Years                                                          1.0   \n",
       "Num_Sites                                                      3.0   \n",
       "Location         00103 Jeffrey Crest Apt. 205 Padillaville, IA ...   \n",
       "Company                                            Abbott-Thompson   \n",
       "Churn                                                            0   \n",
       "\n",
       "                                               4  \n",
       "summary                                      max  \n",
       "Names                              Zachary Walsh  \n",
       "Age                                         65.0  \n",
       "Total_Purchase                          18026.01  \n",
       "Account_Manager                                1  \n",
       "Years                                       9.15  \n",
       "Num_Sites                                   14.0  \n",
       "Location         Unit 9800 Box 2878 DPO AA 75157  \n",
       "Company                Zuniga, Clark and Shaffer  \n",
       "Churn                                          1  "
      ]
     },
     "execution_count": 10,
     "metadata": {},
     "output_type": "execute_result"
    }
   ],
   "source": [
    "numeric_features = [t[0] for t in customer_df.dtypes if t[1]=='double']\n",
    "customer_df.describe().toPandas().transpose() "
   ]
  },
  {
   "cell_type": "markdown",
   "metadata": {},
   "source": [
    "Target Variable Distribution"
   ]
  },
  {
   "cell_type": "code",
   "execution_count": 11,
   "metadata": {},
   "outputs": [
    {
     "name": "stdout",
     "output_type": "stream",
     "text": [
      "+-----+-----+\n",
      "|Churn|count|\n",
      "+-----+-----+\n",
      "|    1|  150|\n",
      "|    0|  750|\n",
      "+-----+-----+\n",
      "\n"
     ]
    }
   ],
   "source": [
    "customer_df.groupby(\"Churn\").count().show()"
   ]
  },
  {
   "cell_type": "code",
   "execution_count": 13,
   "metadata": {},
   "outputs": [
    {
     "data": {
      "text/html": [
       "<div>\n",
       "<style scoped>\n",
       "    .dataframe tbody tr th:only-of-type {\n",
       "        vertical-align: middle;\n",
       "    }\n",
       "\n",
       "    .dataframe tbody tr th {\n",
       "        vertical-align: top;\n",
       "    }\n",
       "\n",
       "    .dataframe thead th {\n",
       "        text-align: right;\n",
       "    }\n",
       "</style>\n",
       "<table border=\"1\" class=\"dataframe\">\n",
       "  <thead>\n",
       "    <tr style=\"text-align: right;\">\n",
       "      <th></th>\n",
       "      <th>Names</th>\n",
       "      <th>Age</th>\n",
       "      <th>Total_Purchase</th>\n",
       "      <th>Account_Manager</th>\n",
       "      <th>Years</th>\n",
       "      <th>Num_Sites</th>\n",
       "      <th>Onboard_date</th>\n",
       "      <th>Location</th>\n",
       "      <th>Company</th>\n",
       "      <th>Churn</th>\n",
       "    </tr>\n",
       "  </thead>\n",
       "  <tbody>\n",
       "    <tr>\n",
       "      <th>0</th>\n",
       "      <td>Cameron Williams</td>\n",
       "      <td>42.0</td>\n",
       "      <td>11066.80</td>\n",
       "      <td>0</td>\n",
       "      <td>7.22</td>\n",
       "      <td>8.0</td>\n",
       "      <td>2013-08-30 07:00:40</td>\n",
       "      <td>10265 Elizabeth Mission Barkerburgh, AK 89518</td>\n",
       "      <td>Harvey LLC</td>\n",
       "      <td>1</td>\n",
       "    </tr>\n",
       "    <tr>\n",
       "      <th>1</th>\n",
       "      <td>Kevin Mueller</td>\n",
       "      <td>41.0</td>\n",
       "      <td>11916.22</td>\n",
       "      <td>0</td>\n",
       "      <td>6.50</td>\n",
       "      <td>11.0</td>\n",
       "      <td>2013-08-13 00:38:46</td>\n",
       "      <td>6157 Frank Gardens Suite 019 Carloshaven, RI 1...</td>\n",
       "      <td>Wilson PLC</td>\n",
       "      <td>1</td>\n",
       "    </tr>\n",
       "    <tr>\n",
       "      <th>2</th>\n",
       "      <td>Eric Lozano</td>\n",
       "      <td>38.0</td>\n",
       "      <td>12884.75</td>\n",
       "      <td>0</td>\n",
       "      <td>6.67</td>\n",
       "      <td>12.0</td>\n",
       "      <td>2016-06-29 06:20:07</td>\n",
       "      <td>1331 Keith Court Alyssahaven, DE 90114</td>\n",
       "      <td>Miller, Johnson and Wallace</td>\n",
       "      <td>1</td>\n",
       "    </tr>\n",
       "    <tr>\n",
       "      <th>3</th>\n",
       "      <td>Phillip White</td>\n",
       "      <td>42.0</td>\n",
       "      <td>8010.76</td>\n",
       "      <td>0</td>\n",
       "      <td>6.71</td>\n",
       "      <td>10.0</td>\n",
       "      <td>2014-04-22 12:43:12</td>\n",
       "      <td>13120 Daniel Mount Angelabury, WY 30645-4695</td>\n",
       "      <td>Smith Inc</td>\n",
       "      <td>1</td>\n",
       "    </tr>\n",
       "    <tr>\n",
       "      <th>4</th>\n",
       "      <td>Cynthia Norton</td>\n",
       "      <td>37.0</td>\n",
       "      <td>9191.58</td>\n",
       "      <td>0</td>\n",
       "      <td>5.56</td>\n",
       "      <td>9.0</td>\n",
       "      <td>2016-01-19 15:31:15</td>\n",
       "      <td>765 Tricia Row Karenshire, MH 71730</td>\n",
       "      <td>Love-Jones</td>\n",
       "      <td>1</td>\n",
       "    </tr>\n",
       "    <tr>\n",
       "      <th>...</th>\n",
       "      <td>...</td>\n",
       "      <td>...</td>\n",
       "      <td>...</td>\n",
       "      <td>...</td>\n",
       "      <td>...</td>\n",
       "      <td>...</td>\n",
       "      <td>...</td>\n",
       "      <td>...</td>\n",
       "      <td>...</td>\n",
       "      <td>...</td>\n",
       "    </tr>\n",
       "    <tr>\n",
       "      <th>895</th>\n",
       "      <td>Paul Miller</td>\n",
       "      <td>42.0</td>\n",
       "      <td>12800.82</td>\n",
       "      <td>1</td>\n",
       "      <td>3.62</td>\n",
       "      <td>8.0</td>\n",
       "      <td>2007-12-01 13:29:34</td>\n",
       "      <td>9316 Julian Fort Suite 328 North Leslie, ME 43961</td>\n",
       "      <td>Evans-Lucero</td>\n",
       "      <td>0</td>\n",
       "    </tr>\n",
       "    <tr>\n",
       "      <th>896</th>\n",
       "      <td>Natalie Hodges</td>\n",
       "      <td>52.0</td>\n",
       "      <td>9893.92</td>\n",
       "      <td>0</td>\n",
       "      <td>6.91</td>\n",
       "      <td>7.0</td>\n",
       "      <td>2008-12-28 15:23:58</td>\n",
       "      <td>8419 William Square Apt. 695 Martinville, RI 3...</td>\n",
       "      <td>Perry and Sons</td>\n",
       "      <td>0</td>\n",
       "    </tr>\n",
       "    <tr>\n",
       "      <th>897</th>\n",
       "      <td>Ana Smith</td>\n",
       "      <td>45.0</td>\n",
       "      <td>12056.18</td>\n",
       "      <td>0</td>\n",
       "      <td>5.46</td>\n",
       "      <td>4.0</td>\n",
       "      <td>2014-06-20 05:10:09</td>\n",
       "      <td>Unit 8633 Box 8738 DPO AA 14126-5026</td>\n",
       "      <td>Schneider-Smith</td>\n",
       "      <td>0</td>\n",
       "    </tr>\n",
       "    <tr>\n",
       "      <th>898</th>\n",
       "      <td>Justin Leonard</td>\n",
       "      <td>51.0</td>\n",
       "      <td>6517.93</td>\n",
       "      <td>1</td>\n",
       "      <td>5.47</td>\n",
       "      <td>10.0</td>\n",
       "      <td>2012-05-30 00:15:43</td>\n",
       "      <td>49800 Torres Ways Suite 886 West Bradleybury, ...</td>\n",
       "      <td>Robles-Abbott</td>\n",
       "      <td>0</td>\n",
       "    </tr>\n",
       "    <tr>\n",
       "      <th>899</th>\n",
       "      <td>Joseph Williams</td>\n",
       "      <td>39.0</td>\n",
       "      <td>9315.60</td>\n",
       "      <td>1</td>\n",
       "      <td>5.02</td>\n",
       "      <td>10.0</td>\n",
       "      <td>2010-09-25 12:16:08</td>\n",
       "      <td>27252 Olivia Burgs Rivasmouth, MN 80121-6348</td>\n",
       "      <td>Davis Group</td>\n",
       "      <td>0</td>\n",
       "    </tr>\n",
       "  </tbody>\n",
       "</table>\n",
       "<p>900 rows × 10 columns</p>\n",
       "</div>"
      ],
      "text/plain": [
       "                Names   Age  Total_Purchase  Account_Manager  Years  \\\n",
       "0    Cameron Williams  42.0        11066.80                0   7.22   \n",
       "1       Kevin Mueller  41.0        11916.22                0   6.50   \n",
       "2         Eric Lozano  38.0        12884.75                0   6.67   \n",
       "3       Phillip White  42.0         8010.76                0   6.71   \n",
       "4      Cynthia Norton  37.0         9191.58                0   5.56   \n",
       "..                ...   ...             ...              ...    ...   \n",
       "895       Paul Miller  42.0        12800.82                1   3.62   \n",
       "896    Natalie Hodges  52.0         9893.92                0   6.91   \n",
       "897         Ana Smith  45.0        12056.18                0   5.46   \n",
       "898    Justin Leonard  51.0         6517.93                1   5.47   \n",
       "899   Joseph Williams  39.0         9315.60                1   5.02   \n",
       "\n",
       "     Num_Sites        Onboard_date  \\\n",
       "0          8.0 2013-08-30 07:00:40   \n",
       "1         11.0 2013-08-13 00:38:46   \n",
       "2         12.0 2016-06-29 06:20:07   \n",
       "3         10.0 2014-04-22 12:43:12   \n",
       "4          9.0 2016-01-19 15:31:15   \n",
       "..         ...                 ...   \n",
       "895        8.0 2007-12-01 13:29:34   \n",
       "896        7.0 2008-12-28 15:23:58   \n",
       "897        4.0 2014-06-20 05:10:09   \n",
       "898       10.0 2012-05-30 00:15:43   \n",
       "899       10.0 2010-09-25 12:16:08   \n",
       "\n",
       "                                              Location  \\\n",
       "0        10265 Elizabeth Mission Barkerburgh, AK 89518   \n",
       "1    6157 Frank Gardens Suite 019 Carloshaven, RI 1...   \n",
       "2               1331 Keith Court Alyssahaven, DE 90114   \n",
       "3         13120 Daniel Mount Angelabury, WY 30645-4695   \n",
       "4                  765 Tricia Row Karenshire, MH 71730   \n",
       "..                                                 ...   \n",
       "895  9316 Julian Fort Suite 328 North Leslie, ME 43961   \n",
       "896  8419 William Square Apt. 695 Martinville, RI 3...   \n",
       "897               Unit 8633 Box 8738 DPO AA 14126-5026   \n",
       "898  49800 Torres Ways Suite 886 West Bradleybury, ...   \n",
       "899       27252 Olivia Burgs Rivasmouth, MN 80121-6348   \n",
       "\n",
       "                         Company  Churn  \n",
       "0                     Harvey LLC      1  \n",
       "1                     Wilson PLC      1  \n",
       "2    Miller, Johnson and Wallace      1  \n",
       "3                      Smith Inc      1  \n",
       "4                     Love-Jones      1  \n",
       "..                           ...    ...  \n",
       "895                 Evans-Lucero      0  \n",
       "896               Perry and Sons      0  \n",
       "897              Schneider-Smith      0  \n",
       "898                Robles-Abbott      0  \n",
       "899                  Davis Group      0  \n",
       "\n",
       "[900 rows x 10 columns]"
      ]
     },
     "execution_count": 13,
     "metadata": {},
     "output_type": "execute_result"
    }
   ],
   "source": [
    "#convert the data into pandas data \n",
    "import seaborn as sns\n",
    "\n",
    "df=customer_df.toPandas()\n",
    "df"
   ]
  },
  {
   "cell_type": "code",
   "execution_count": 14,
   "metadata": {},
   "outputs": [
    {
     "data": {
      "image/png": "[encoded data removed]",
      "text/plain": [
       "<Figure size 3000x1000 with 1 Axes>"
      ]
     },
     "metadata": {},
     "output_type": "display_data"
    }
   ],
   "source": [
    "#Analyzing the label with the feature Age\n",
    "import matplotlib.pyplot as plt\n",
    "fig,ax=plt.subplots(figsize=(30,10))\n",
    "sns.countplot(data=df, x='Age',hue='Churn')\n",
    "plt.show()"
   ]
  },
  {
   "cell_type": "markdown",
   "metadata": {},
   "source": [
    "## Data Preprocessing\n",
    "#### Assuming 'Churn' is the target variable"
   ]
  },
  {
   "cell_type": "code",
   "execution_count": 15,
   "metadata": {},
   "outputs": [],
   "source": [
    "#import  VectorAssembler \n",
    "from pyspark.ml.feature import VectorAssembler, StandardScaler\n",
    "\n",
    "input_cols=['Age','Total_Purchase','Account_Manager','Years','Num_Sites']\n",
    "assembler = VectorAssembler(inputCols=input_cols, outputCol='features')\n",
    "df_assembled = assembler.transform(customer_df)"
   ]
  },
  {
   "cell_type": "code",
   "execution_count": 21,
   "metadata": {},
   "outputs": [],
   "source": [
    "final_customer_df = df_assembled.select('features','Churn')"
   ]
  },
  {
   "cell_type": "markdown",
   "metadata": {},
   "source": [
    "## Split the Data into training and testing"
   ]
  },
  {
   "cell_type": "code",
   "execution_count": 22,
   "metadata": {},
   "outputs": [],
   "source": [
    "train_df, test_df = final_customer_df.randomSplit([0.7,0.3],seed=42)"
   ]
  },
  {
   "cell_type": "code",
   "execution_count": 23,
   "metadata": {},
   "outputs": [],
   "source": [
    "#Standardize the features\n",
    "scaler = StandardScaler(inputCol='features', outputCol='scaled_features')\n",
    "scaler_model = scaler.fit(train_df)\n",
    "train_df_scaled = scaler_model.transform(train_df)\n",
    "test_df_scaled = scaler_model.transform(test_df)"
   ]
  },
  {
   "cell_type": "markdown",
   "metadata": {},
   "source": [
    "## Model Training"
   ]
  },
  {
   "cell_type": "code",
   "execution_count": 24,
   "metadata": {},
   "outputs": [],
   "source": [
    "#Create and Train the Logistic Regression model\n",
    "\n",
    "lr=LogisticRegression(labelCol='Churn')\n",
    "lr_model= lr.fit(train_df_scaled)\n",
    "training_sum = lr_model.summary"
   ]
  },
  {
   "cell_type": "markdown",
   "metadata": {},
   "source": [
    "### Make predictions on the test set"
   ]
  },
  {
   "cell_type": "code",
   "execution_count": 27,
   "metadata": {},
   "outputs": [
    {
     "name": "stdout",
     "output_type": "stream",
     "text": [
      "+-------+------------------+-------------------+\n",
      "|summary|             Churn|         prediction|\n",
      "+-------+------------------+-------------------+\n",
      "|  count|               667|                667|\n",
      "|   mean|0.1634182908545727|0.12293853073463268|\n",
      "| stddev|0.3700243606477147|0.32861306618408714|\n",
      "|    min|               0.0|                0.0|\n",
      "|    max|               1.0|                1.0|\n",
      "+-------+------------------+-------------------+\n",
      "\n"
     ]
    }
   ],
   "source": [
    "\n",
    "training_sum.predictions.describe().show()"
   ]
  },
  {
   "cell_type": "code",
   "execution_count": 26,
   "metadata": {},
   "outputs": [],
   "source": [
    "#Evaluate the model\n",
    "\n",
    "predictions_labels = lr_model.evaluate(test_df_scaled)"
   ]
  },
  {
   "cell_type": "code",
   "execution_count": 28,
   "metadata": {},
   "outputs": [
    {
     "name": "stdout",
     "output_type": "stream",
     "text": [
      "+--------------------+-----+--------------------+--------------------+--------------------+----------+\n",
      "|            features|Churn|     scaled_features|       rawPrediction|         probability|prediction|\n",
      "+--------------------+-----+--------------------+--------------------+--------------------+----------+\n",
      "|[26.0,8787.39,1.0...|    1|[4.31436398285103...|[0.79106248132020...|[0.68805942038441...|       0.0|\n",
      "|[28.0,9090.43,1.0...|    0|[4.64623813537803...|[1.61026688857555...|[0.83344843709585...|       0.0|\n",
      "|[28.0,11204.23,0....|    0|[4.64623813537803...|[1.97148345642762...|[0.87777036176974...|       0.0|\n",
      "|[28.0,11245.38,0....|    0|[4.64623813537803...|[3.75331012854098...|[0.97709682330471...|       0.0|\n",
      "|[29.0,9617.59,0.0...|    0|[4.81217521164153...|[4.42202807822147...|[0.98813267415840...|       0.0|\n",
      "|[29.0,10203.18,1....|    0|[4.81217521164153...|[3.71080419195967...|[0.97612605863733...|       0.0|\n",
      "|[29.0,11274.46,1....|    0|[4.81217521164153...|[4.39058463869248...|[0.98775823667280...|       0.0|\n",
      "|[30.0,6744.87,0.0...|    0|[4.97811228790503...|[3.55749267043437...|[0.97228008128416...|       0.0|\n",
      "|[30.0,8403.78,1.0...|    0|[4.97811228790503...|[5.76304568829245...|[0.99686830940139...|       0.0|\n",
      "|[30.0,8874.83,0.0...|    0|[4.97811228790503...|[3.22709763405856...|[0.96184137137662...|       0.0|\n",
      "|[30.0,10183.98,1....|    0|[4.97811228790503...|[2.87524813075598...|[0.94660921217089...|       0.0|\n",
      "|[30.0,12788.37,0....|    0|[4.97811228790503...|[2.55636649637210...|[0.92800005897191...|       0.0|\n",
      "|[30.0,13473.35,0....|    0|[4.97811228790503...|[2.76977890817312...|[0.94102071697444...|       0.0|\n",
      "|[31.0,5304.6,0.0,...|    0|[5.14404936416853...|[3.48758770685489...|[0.97033253112331...|       0.0|\n",
      "|[31.0,7073.61,0.0...|    0|[5.14404936416853...|[3.16501389037818...|[0.95949625177380...|       0.0|\n",
      "|[31.0,8829.83,1.0...|    0|[5.14404936416853...|[4.33951413571566...|[0.98712506233162...|       0.0|\n",
      "|[31.0,9574.89,0.0...|    0|[5.14404936416853...|[3.31877005992135...|[0.96506715076717...|       0.0|\n",
      "|[31.0,11743.24,0....|    0|[5.14404936416853...|[6.54958239216506...|[0.99857133106464...|       0.0|\n",
      "|[32.0,6367.22,1.0...|    0|[5.30998644043203...|[3.02498369579995...|[0.95369013007749...|       0.0|\n",
      "|[32.0,7896.65,0.0...|    0|[5.30998644043203...|[3.45646309561266...|[0.96942330053394...|       0.0|\n",
      "+--------------------+-----+--------------------+--------------------+--------------------+----------+\n",
      "only showing top 20 rows\n",
      "\n"
     ]
    }
   ],
   "source": [
    "#Display Confusion Matrix\n",
    "predictions_labels.predictions.show()"
   ]
  },
  {
   "cell_type": "markdown",
   "metadata": {},
   "source": [
    "## Using AUC"
   ]
  },
  {
   "cell_type": "code",
   "execution_count": 30,
   "metadata": {},
   "outputs": [
    {
     "data": {
      "text/plain": [
       "0.7456808943089431"
      ]
     },
     "execution_count": 30,
     "metadata": {},
     "output_type": "execute_result"
    }
   ],
   "source": [
    "churn_eval = BinaryClassificationEvaluator(rawPredictionCol='prediction',\n",
    "                                           labelCol='Churn')\n",
    "\n",
    "auc = churn_eval.evaluate(predictions_labels.predictions)\n",
    "auc"
   ]
  }
 ],
 "metadata": {
  "kernelspec": {
   "display_name": "Python 3",
   "language": "python",
   "name": "python3"
  },
  "language_info": {
   "codemirror_mode": {
    "name": "ipython",
    "version": 3
   },
   "file_extension": ".py",
   "mimetype": "text/x-python",
   "name": "python",
   "nbconvert_exporter": "python",
   "pygments_lexer": "ipython3",
   "version": "3.11.8"
  }
 },
 "nbformat": 4,
 "nbformat_minor": 2
}
